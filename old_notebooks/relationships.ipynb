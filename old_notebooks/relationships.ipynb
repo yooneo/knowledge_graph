{
 "cells": [
  {
   "cell_type": "markdown",
   "metadata": {},
   "source": [
    "# Extract relationshipts between concepts\n",
    "Currently not using this"
   ]
  },
  {
   "cell_type": "code",
   "execution_count": 2,
   "metadata": {},
   "source": [
    "import ollama.client as client\n",
    "client.list()"
   ],
   "outputs": []
  },
  {
   "cell_type": "code",
   "execution_count": 3,
   "metadata": {},
   "source": [
    "mistral_instruct = 'mistral:instruct'\n",
    "mistral_openorca = 'mistral-openorca:latest'\n",
    "mcard = client.show(mistral_openorca)\n",
    "mcard['template']"
   ],
   "outputs": []
  },
  {
   "cell_type": "code",
   "execution_count": 6,
   "metadata": {},
   "source": [
    "system_prompt = \"\"\"\n",
    "Your task is to find find a relationships between the entities given as a python list.\\n\n",
    "You can use the provided context (delimited between ```) and no other prior knowledge. \\n\n",
    "Follow this chain of thought\n",
    "Thought 1: What are the two entities as per the context. \n",
    "Thought 2: What is the relationship between the given entities as per the given context?. \n",
    "Thought 3: Is this a direct relationship as per the context.\n",
    "Format your response as JSON with the following structure:\\n\n",
    "{ \n",
    "    \"Entity 1\": First Entity,\n",
    "    \"Entity 2\": Second Entity,\n",
    "    \"Relationship\": Explain the Relationship,\n",
    "    \"Related\": 'Yes' only if a direct relation can be infered, otherwise 'No'\n",
    "}\n",
    "\"\"\"\n",
    "\n",
    "prompt = \"\"\"\n",
    "Entites: ['Cryosurgery', 'non-narcotic pain'].\n",
    "\n",
    "Context:  ``` \n",
    "The two primary types of cancer surgery are open surgery and minimally invasive surgery.\n",
    "\n",
    "In open surgery, the surgical oncologist makes a large incision, usually to remove all or part of a tumor and some of the surrounding healthy tissue (margins).\n",
    "\n",
    "Minimally invasive surgical techniques may involve the techniques listed below.\n",
    "\n",
    "Laparoscopy: A surgical oncologist makes a few small incisions and inserts a laparoscope —a thin tube with a tiny camera attached to it—into one of the incisions to capture an interior image, while inserting surgical tools into the other incisions to excise malignancies and surrounding tissue.\n",
    "\n",
    "Laser surgery: The surgeon uses a narrow beam of high-intensity light to remove a tumor.\n",
    "\n",
    "Cryosurgery: The surgeon uses liquid nitrogen to freeze and kill cancer cells.\n",
    "\n",
    "Robotic surgery: This surgery is similar to a laparoscopic surgery. However, instead of manipulating surgical tools by hand, the surgeon uses a computer console to operate the robotic tools.\n",
    "\n",
    "Other procedures, such as endoscopies, embolization, Mohs micrographic surgery and pleuroscopies, may be performed by non-surgeons, including dermatologists, radiation oncologists and interventional pulmonologists, depending on the procedure.\n",
    "\n",
    "Non-surgical treatments may take place before surgery (neoadjuvant therapy) or after surgery (adjuvant therapy) to help prevent cancer growth, metastasis or recurrence. The treatments may include chemotherapy, radiation therapy or hormone therapy.\n",
    "\n",
    "The Advanced Surgical Recovery Program (ASURE) at City of Hope is designed to help patients recover from surgery more quickly and with fewer complications. ASURE is intended to improve surgical outcomes and enhance the patient experience before, during and after surgery, while also reducing the length of a patient’s hospital stay.\n",
    "\n",
    "The program is delivered by City of Hope multidisciplinary teams, which include surgeons, anesthesiologists, nutritionists, behavioral health therapists, nurses and other clinicians. They work collaboratively to implement evidenced-informed protocols, all under one roof. ASURE combines post-surgical rehabilitation with pre-habilitation, by preparing patients before surgery.\n",
    "\n",
    "Typically, ASURE protocols involve nutrition, pain management with non-narcotic pain relievers and physical activity within 24 hours after surgery. The use of enhanced recovery methods like those used in ASURE has been shown to reduce fatigue, post-surgery complications and the amount of narcotics used in post-surgical care, while helping patients resume their everyday activities more quickly.\n",
    "```\n",
    "\"\"\"\n",
    "\n",
    "combined_prompt = system_prompt + \"\\n\" + prompt\n",
    "response, context = client.generate(\n",
    "    model_name=mistral_openorca, prompt=prompt, system=system_prompt\n",
    ")"
   ],
   "outputs": []
  },
  {
   "cell_type": "code",
   "execution_count": 74,
   "metadata": {},
   "source": [
    "import pandas as pd\n",
    "import json\n",
    "# from helpers.prompts import graphPrompt\n",
    "\n",
    "def graphPrompt(input: str, metadata={}, model=\"mistral-openorca:latest\"):\n",
    "    SYS_PROMPT = (\n",
    "        \"You are a network graph maker. Your task is to extract a knowledge graph of ontologies from the given text. \"\n",
    "        \"The graph is made in such a way that, nodes represent the key concepts discussed in the text. \"\n",
    "        \"The edges of the graph represent the relation between two concepts.\\n\"\n",
    "        \"Thought 1: Think about the key concepts or entities mentioned in the text.\"\n",
    "        \"           The concepts may include object, entity, location, organisation, person, condition, acronym, documents, services, concept, etc.\\n\"\n",
    "        \"Thought 2: Find out the pairs of concepts that are strongly related to each other.\\n \"\n",
    "        \"Thought 3: Find out the relation between each pairs. \\n\"\n",
    "        \"Format your output as a list of json. Each element of the list contains two nodes \"\n",
    "        \"and a relation between them, like the follwing: \\n\"\n",
    "        \"[\\n\"\n",
    "        \"   {\\n\"\n",
    "        \"       \\\"node_1\\\": \\\"first concept or entity\\\",\\n\"\n",
    "        \"       \\\"node_2': \\\"second concept or entity\\\",\\n\"\n",
    "        \"       \\\"edge': \\\"relationship between the two concepts, node_1 and node_2\\\"\\n\"\n",
    "        \"   }, {...}\\n\"\n",
    "        \"]\"\n",
    "    )\n",
    "    response, _ = client.generate(model_name=model, system=SYS_PROMPT, prompt=input)\n",
    "    try:\n",
    "        result = json.loads(response)\n",
    "        result = [dict(item, **metadata) for item in result]\n",
    "    except BaseException as error:\n",
    "        print(\"\\n\\nERROR ### Here is the buggy response: \", response, \"\\n\\n\")\n",
    "        print(error)\n",
    "        result = None\n",
    "    return result\n",
    "\n",
    "input = \"\"\"\n",
    "Health data interoperability means the ability of different health information technology systems to communicate and exchange data with each other seamlessly, securely, and efficiently with the Patient’s consent. Interoperability enables health data to be shared among healthcare providers, hospitals, and other healthcare organisations, regardless of the technology platform they are using.\n",
    "Simply speaking, that means you should not be needed to lug your entire medical history in hard copy to every doctor, every time you sneeze. \n",
    "We have all experienced going to a doctor carrying that big fat folder, filed with withering pages of our medical history. And when the doctor asks questions about the missing information, so hard we try to recollect the name of the drug prescribed by the last doctor, or our allergies (Thou shan’t forget those!). And still coming out of the cabin only to remember a crucial detail we forgot to mention… Dam! \n",
    "Well… that was an oversimplified — and slightly exaggerated for dramatic effect — reconstruction of my medical experiences visiting a doctor. But it drives the point home. Remember the mobile charger hell… it is like that, only the stakes are higher. \n",
    "Every healthcare service provider these days uses a technology platform to manage its services. This includes a Hospital management system (HMS), Electronic Health Record (EHR), Patient Record (PHR) system etc. In practical terms, health data interoperability means that healthcare information can be accessed by authorised providers across different systems, regardless of where the information was originally generated or stored. This includes data such as medical histories, lab results, imaging studies, Insurance coverage, and other clinical information.\n",
    "Apart from healthcare providers like a hospital or doctor’s clinics, The purview of Health Data Interoperability includes Diagnostic labs, Insurance providers, Pharmacies, Wellness Service providers (Gyms, Yoga centres), Mobile Health and Wellness (HnW) apps, Wearable devices (iPhone, Fitbit, Glucometer), Government Healthcare Schemes like CGHS etc, and even public health research. \n",
    "The lack of interoperability has been a major barrier to the adoption of health information technology and the sharing of patient data in the past. \n",
    "But before we dig deeper into that, we must Quench the Question that is Quintessential to the Quest for a change from the Quiescence. (Wow.. what a Quip.. right?)\n",
    "\n",
    "\"\"\"\n",
    "\n",
    "res = graphPrompt(input)"
   ],
   "outputs": []
  },
  {
   "cell_type": "code",
   "execution_count": 75,
   "metadata": {},
   "source": [
    "res"
   ],
   "outputs": []
  },
  {
   "cell_type": "code",
   "execution_count": 76,
   "metadata": {},
   "source": [
    "df = pd.DataFrame(res)\n",
    "df"
   ],
   "outputs": []
  },
  {
   "cell_type": "code",
   "execution_count": null,
   "metadata": {},
   "source": [],
   "outputs": []
  }
 ],
 "metadata": {
  "kernelspec": {
   "display_name": "OpenAI@3111",
   "language": "python",
   "name": "python3"
  },
  "language_info": {
   "codemirror_mode": {
    "name": "ipython",
    "version": 3
   },
   "file_extension": ".py",
   "mimetype": "text/x-python",
   "name": "python",
   "nbconvert_exporter": "python",
   "pygments_lexer": "ipython3",
   "version": "3.11.1"
  },
  "orig_nbformat": 4
 },
 "nbformat": 4,
 "nbformat_minor": 2
}
